{
 "cells": [
  {
   "cell_type": "markdown",
   "metadata": {},
   "source": [
    "# U.S. Medical Insurance Costs"
   ]
  },
  {
   "cell_type": "code",
   "execution_count": 1,
   "metadata": {},
   "outputs": [],
   "source": [
    "import csv\n"
   ]
  },
  {
   "cell_type": "code",
   "execution_count": 2,
   "metadata": {
    "scrolled": true
   },
   "outputs": [],
   "source": [
    "plist = []\n",
    "with open('insurance.csv') as insurance:\n",
    "    insurance_data = csv.DictReader(insurance)\n",
    "    for i in insurance_data:\n",
    "        plist.append(i)\n",
    "#print(plist)\n",
    "    "
   ]
  },
  {
   "cell_type": "code",
   "execution_count": 3,
   "metadata": {},
   "outputs": [],
   "source": [
    "class Patients:\n",
    "    \n",
    "    def __init__(self, data, gender = None, smoker = None , children = None):\n",
    "        self.data = data\n",
    "        self.gender = gender\n",
    "        self.children = children\n",
    "        self.smoker = smoker\n",
    "        \n",
    "    def count_patients(self):\n",
    "        males_count = 0\n",
    "        females_count = 0\n",
    "        \n",
    "        if self.gender == 'female':\n",
    "            for i in self.data:\n",
    "                if i['sex'] == 'female':\n",
    "                    females_count+=1\n",
    "            return'The number of female patients is {}.'.format(females_count)\n",
    "                    \n",
    "        elif self.gender == 'male':\n",
    "            for i in self.data:\n",
    "                if i['sex'] == 'male':\n",
    "                    males_count+=1\n",
    "            return'The number of male patients is {}.'.format(males_count)\n",
    "            \n",
    "        elif self.gender == None:\n",
    "            for i in self.data:\n",
    "                if i['sex'] == 'male':\n",
    "                    males_count+=1\n",
    "                else:\n",
    "                    females_count+=1\n",
    "            males_perc = round((males_count *100) / len(self.data),1)\n",
    "            females_perc = round((females_count *100) / len(self.data), 1)\n",
    "            return'The number of male patients is {} and female patients is {} which makes up {}% females and {}% males.'.format(males_count, females_count, males_perc, females_perc)\n",
    "            \n",
    "        else:\n",
    "            print(\"Please enter a valid argument: male or female\")\n",
    "\n",
    "    def count_smokers(self):\n",
    "        \n",
    "        if self.smoker == None:\n",
    "            \n",
    "            female_smokers = 0\n",
    "            male_smokers = 0\n",
    "            \n",
    "            for i in self.data:\n",
    "                \n",
    "                if i['sex'] == 'female' and i['smoker'] == 'yes':\n",
    "                    female_smokers+=1\n",
    "                    \n",
    "                elif i['sex'] == 'male' and i['smoker'] == 'yes':\n",
    "                    male_smokers+=1\n",
    "            total_smokers = str(male_smokers + female_smokers)\n",
    "            return \"The total number of smoking-patients are {}, females being {} and males being {}.\".format(total_smokers, str(female_smokers), str(male_smokers))\n",
    "        \n",
    "        elif self.smoker == 'no':\n",
    "            \n",
    "            male_non_smokers = 0\n",
    "            female_non_smokers = 0\n",
    "        \n",
    "            for i in self.data:\n",
    "               \n",
    "                if i['sex'] == 'female' and i['smoker'] == 'no':\n",
    "                    female_non_smokers+=1\n",
    "                    \n",
    "                elif i['sex'] == 'male' and i['smoker'] == 'no':\n",
    "                    male_non_smokers+=1\n",
    "                \n",
    "            males_ns_perc= round((male_non_smokers*100 / (female_non_smokers + male_non_smokers)), 2)   \n",
    "            females_ns_perc= round((female_non_smokers*100 / (female_non_smokers + male_non_smokers)), 2)\n",
    "            return 'The total number of number of non-smoking male patients is {} and the number of non-smoking female patients is {}, which constitutes {}% and {}% respectively of the non-smoking patients.'.format(str(male_non_smokers), str(female_non_smokers), str(males_ns_perc), str(females_ns_perc))\n",
    "    \n",
    "        elif self.smoker == 'yes':\n",
    "            \n",
    "            male_smokers = 0\n",
    "            female_smokers = 0\n",
    "        \n",
    "            for i in self.data:\n",
    "                \n",
    "                if i['sex'] == 'female' and i['smoker'] == 'yes':\n",
    "                    female_smokers+=1\n",
    "                    \n",
    "                elif i['sex'] == 'male' and i['smoker'] == 'yes':\n",
    "                    male_smokers+=1\n",
    "                    \n",
    "        #ns stands for non-smoking\n",
    "            males_s_perc = round((male_smokers*100 / (female_smokers + male_smokers)), 2)\n",
    "            females_s_perc = round((female_smokers*100 / (female_smokers + male_smokers)), 2)\n",
    "        \n",
    "            return 'The total number of number of smoking male patients is {} and the number of smoking female patients is {}, which constitutes {}% and {}% respectively of the smoking-patients.'.format(str(male_smokers), str(female_smokers), str(males_s_perc), str(females_s_perc))\n",
    "        \n",
    "        else:\n",
    "            print(\"Please enter a valid argument: 'yes' or 'no'\")\n",
    "    \n",
    "    def get_mean_age(self):\n",
    "        \n",
    "        females_ages = []\n",
    "        males_ages = []\n",
    "        nc_females_ages = []\n",
    "        nc_males_ages = []\n",
    "        \n",
    "        for i in self.data:\n",
    "            \n",
    "            if i['children'] == '0' and i['sex'] == 'female':\n",
    "                females_ages.append(int(i['age']))\n",
    "                females_avg_age = round(sum(females_ages) / len(females_ages))\n",
    "                \n",
    "            elif i['children'] == '0' and i['sex'] == 'male':\n",
    "                males_ages.append(int(i['age']))\n",
    "                males_avg_age = round(sum(males_ages) / len(males_ages))\n",
    "                \n",
    "            elif i['children'] != '0' and i['sex'] == 'female':\n",
    "                nc_females_ages.append(int(i['age']))\n",
    "                nc_females_avg = round(sum(nc_females_ages) / len(nc_females_ages))\n",
    "                \n",
    "            elif i['children'] != '0' and i['sex'] == 'male':\n",
    "                nc_males_ages.append(int(i['age']))\n",
    "                nc_males_avg = round(sum(nc_males_ages) / len(nc_males_ages))\n",
    "           \n",
    "        patients_avg = round((sum(females_ages + males_ages + nc_females_ages + nc_males_ages)/ len(self.data)), 1)\n",
    "        return 'The average age for all patients is {} years. The average age for females and males who do not have children is {} years and {} years respectively. As for males and females who have children is {} and {} respectively'.format(patients_avg, females_avg_age, males_avg_age, nc_males_avg, nc_females_avg)\n",
    "\n",
    "    def get_region(self):\n",
    "        \n",
    "        NE = 0\n",
    "        NW = 0\n",
    "        SE = 0\n",
    "        SW = 0\n",
    "        \n",
    "        if self.gender == None:\n",
    "            \n",
    "            for i in self.data:\n",
    "                if i['region'] == 'northeast':\n",
    "                    NE+=1\n",
    "                \n",
    "                elif i['region'] == 'northwest':\n",
    "                    NW+=1\n",
    "                \n",
    "                elif i['region'] == 'southeast':\n",
    "                    SE+=1\n",
    "                    \n",
    "                elif i['region'] == 'southwest':\n",
    "                    SW+=1\n",
    "                   \n",
    "            return 'The number of patients coming from different regions is: NorthEast {} patients, NorthWest {} patients, SouthEast {} patients, and SouthWest is {} patients.'.format(NE, NW, SE, SW)\n",
    "        \n",
    "        elif self.gender == 'female':\n",
    "            \n",
    "            for i in self.data:\n",
    "                if i['region'] == 'northeast' and i['sex'] == 'female':\n",
    "                    NE+=1\n",
    "                \n",
    "                elif i['region'] == 'northwest' and i['sex'] == 'female':\n",
    "                    NW+=1\n",
    "                \n",
    "                elif i['region'] == 'southeast' and i['sex'] == 'female':\n",
    "                    SE+=1\n",
    "                    \n",
    "                elif i['region'] == 'southwest' and i['sex'] == 'female':\n",
    "                    SW+=1\n",
    "            \n",
    "            females = NE + NW + SE + SW\n",
    "            \n",
    "            return 'The number of female patients is {} coming from the following regions: NorthEast {} patients, NorthWest {} patients, SouthEast {} patients, and SouthWest is {} patients.'.format(females, NE, NW, SE, SW)\n",
    "           \n",
    "        elif self.gender == 'male':\n",
    "            \n",
    "            for i in self.data:\n",
    "                if i['region'] == 'northeast' and i['sex'] == 'male':\n",
    "                    NE+=1\n",
    "                \n",
    "                elif i['region'] == 'northwest' and i['sex'] == 'male':\n",
    "                    NW+=1\n",
    "                \n",
    "                elif i['region'] == 'southeast' and i['sex'] == 'male':\n",
    "                    SE+=1\n",
    "                    \n",
    "                elif i['region'] == 'southwest' and i['sex'] == 'male':\n",
    "                    SW+=1\n",
    "           \n",
    "            males = NE + NW + SE + SW\n",
    "            \n",
    "            return 'The number of male patients is {} coming from the following regions: NorthEast {} patients, NorthWest {} patients, SouthEast {} patients, and SouthWest is {} patients.'.format(males, NE, NW, SE, SW)\n",
    "        \n",
    "        else:\n",
    "            print(\"Please provide a valid gender argument: 'male' or 'female'\")\n",
    "            \n",
    "    def get_costs(self):\n",
    "        \n",
    "        s_females_costs = []\n",
    "        s_males_costs = []  \n",
    "        ns_females_costs = []\n",
    "        ns_males_costs = []\n",
    "        \n",
    "        if self.children == None or self.children == '0':\n",
    "        \n",
    "            for i in self.data:\n",
    "        \n",
    "                if i['sex'] == 'female' and i['smoker'] == 'no' and i['children'] == '0':\n",
    "                    ns_females_costs.append(float(i['charges']))\n",
    "                    avg_cost_nsf = sum(ns_females_costs)/len(ns_females_costs)\n",
    "                    \n",
    "                elif i['sex'] == 'male' and i['smoker'] == 'no' and i['children'] == '0':\n",
    "                    ns_males_costs.append(float(i['charges']))\n",
    "                    avg_cost_nsm = sum(ns_males_costs)/len(ns_males_costs)\n",
    "                \n",
    "                elif i['sex'] == 'female' and i['smoker'] == 'yes' and i['children'] == '0':\n",
    "                    s_females_costs.append(float(i['charges']))\n",
    "                    avg_cost_sf = sum(s_females_costs)/len(s_females_costs)\n",
    "                \n",
    "                elif i['sex'] == 'male' and i['smoker'] == 'yes' and i['children'] == '0':\n",
    "                    s_males_costs.append(float(i['charges']))\n",
    "                    avg_cost_sm = sum(s_males_costs)/len(s_males_costs)\n",
    "                \n",
    "            ns_cost_difference = round(abs(avg_cost_nsm - avg_cost_nsf))\n",
    "            females_diff = round(abs(avg_cost_sf - avg_cost_nsf))\n",
    "            males_diff = round(abs(avg_cost_sm - avg_cost_nsm))\n",
    "                \n",
    "            return \"For patients with no children, the average cost of insurance for non-smoking female patients is {} and for non-smoking male patients is {}, and the cost difference is {}. As for the cost of smoking patients: smoking-females' costs are {} and smoking-males' costs are {}.Whereas the cost difference between smoking-females and non-smoking females is {} and those for smoking-males and non-smoking males are {}.\".format(round(avg_cost_nsf), round(avg_cost_nsm), ns_cost_difference, round(avg_cost_sf), round(avg_cost_sm), females_diff, males_diff)\n",
    "        \n",
    "        \n",
    "        elif self.children != '0':\n",
    "            \n",
    "            for i in self.data:\n",
    "        \n",
    "                if i['sex'] == 'female' and i['smoker'] == 'no' and i['children'] != '0':\n",
    "                    ns_females_costs.append(float(i['charges']))\n",
    "                    avg_cost_nsf = sum(ns_females_costs)/len(ns_females_costs)\n",
    "                    \n",
    "                elif i['sex'] == 'male' and i['smoker'] == 'no' and i['children'] != '0':\n",
    "                    ns_males_costs.append(float(i['charges']))\n",
    "                    avg_cost_nsm = sum(ns_males_costs)/len(ns_males_costs)\n",
    "                \n",
    "                elif i['sex'] == 'female' and i['smoker'] == 'yes' and i['children'] != '0':\n",
    "                    s_females_costs.append(float(i['charges']))\n",
    "                    avg_cost_sf = sum(s_females_costs)/len(s_females_costs)\n",
    "                \n",
    "                elif i['sex'] == 'male' and i['smoker'] == 'yes' and i['children'] != '0':\n",
    "                    s_males_costs.append(float(i['charges']))\n",
    "                    avg_cost_sm = sum(s_males_costs)/len(s_males_costs)\n",
    "            \n",
    "            ns_cost_difference = round(abs(avg_cost_nsm - avg_cost_nsf))\n",
    "            females_diff = round(abs(avg_cost_sf - avg_cost_nsf))\n",
    "            males_diff = round(abs(avg_cost_sm - avg_cost_nsm))\n",
    "            \n",
    "            return \"For patients with children, the average cost of insurance for non-smoking female patients is {} and for non-smoking male patients is {}, and the cost difference is {}. As for the cost of smoking patients: smoking-females' costs are {} and smoking-males' costs are {}.Whereas the cost difference between smoking-females and non-smoking females is {} and those for smoking-males and non-smoking males are {}.\".format(round(avg_cost_nsf), round(avg_cost_nsm), ns_cost_difference, round(avg_cost_sf), round(avg_cost_sm), females_diff, males_diff)\n",
    "        \n",
    "        "
   ]
  },
  {
   "cell_type": "code",
   "execution_count": 4,
   "metadata": {},
   "outputs": [
    {
     "data": {
      "text/plain": [
       "'The number of male patients is 676 and female patients is 662 which makes up 50.5% females and 49.5% males.'"
      ]
     },
     "execution_count": 4,
     "metadata": {},
     "output_type": "execute_result"
    }
   ],
   "source": [
    "general_patients = Patients(plist)\n",
    "female_patients = Patients(plist, gender = 'female')\n",
    "male_patients = Patients(plist, gender = 'male')\n",
    "smoking_patients = Patients(plist, smoker = 'yes')\n",
    "smoking_males = Patients(plist, smoker = 'yes', gender = 'male')\n",
    "non_smoking_females = Patients(plist, gender = 'female', smoker = 'no')\n",
    "father_patient = Patients(plist, gender = 'male', children = '0')\n",
    "mother_patient = Patients(plist, gender = 'female', smoker = 'yes', children = '2')\n",
    "\n",
    "general_patients.count_patients()"
   ]
  },
  {
   "cell_type": "code",
   "execution_count": 5,
   "metadata": {},
   "outputs": [
    {
     "data": {
      "text/plain": [
       "'The total number of smoking-patients are 274, females being 115 and males being 159.'"
      ]
     },
     "execution_count": 5,
     "metadata": {},
     "output_type": "execute_result"
    }
   ],
   "source": [
    "general_patients.count_smokers()"
   ]
  },
  {
   "cell_type": "code",
   "execution_count": 6,
   "metadata": {},
   "outputs": [
    {
     "data": {
      "text/plain": [
       "'The average age for all patients is 39.2 years. The average age for females and males who do not have children is 38 years and 39 years respectively. As for males and females who have children is 39 and 40 respectively'"
      ]
     },
     "execution_count": 6,
     "metadata": {},
     "output_type": "execute_result"
    }
   ],
   "source": [
    "general_patients.get_mean_age()"
   ]
  },
  {
   "cell_type": "code",
   "execution_count": 7,
   "metadata": {},
   "outputs": [
    {
     "data": {
      "text/plain": [
       "'The number of patients coming from different regions is: NorthEast 324 patients, NorthWest 325 patients, SouthEast 364 patients, and SouthWest is 325 patients.'"
      ]
     },
     "execution_count": 7,
     "metadata": {},
     "output_type": "execute_result"
    }
   ],
   "source": [
    "general_patients.get_region()"
   ]
  },
  {
   "cell_type": "code",
   "execution_count": 8,
   "metadata": {},
   "outputs": [
    {
     "data": {
      "text/plain": [
       "\"For patients with no children, the average cost of insurance for non-smoking female patients is 7688 and for non-smoking male patients is 7531, and the cost difference is 158. As for the cost of smoking patients: smoking-females' costs are 30685 and smoking-males' costs are 31902.Whereas the cost difference between smoking-females and non-smoking females is 22997 and those for smoking-males and non-smoking males are 24372.\""
      ]
     },
     "execution_count": 8,
     "metadata": {},
     "output_type": "execute_result"
    }
   ],
   "source": [
    "general_patients.get_costs()"
   ]
  },
  {
   "cell_type": "code",
   "execution_count": 9,
   "metadata": {},
   "outputs": [
    {
     "data": {
      "text/plain": [
       "\"For patients with children, the average cost of insurance for non-smoking female patients is 9577 and for non-smoking male patients is 8509, and the cost difference is 1068. As for the cost of smoking patients: smoking-females' costs are 30674 and smoking-males' costs are 33770.Whereas the cost difference between smoking-females and non-smoking females is 21097 and those for smoking-males and non-smoking males are 25261.\""
      ]
     },
     "execution_count": 9,
     "metadata": {},
     "output_type": "execute_result"
    }
   ],
   "source": [
    "mother_patient.get_costs()"
   ]
  },
  {
   "cell_type": "code",
   "execution_count": 10,
   "metadata": {},
   "outputs": [
    {
     "data": {
      "text/plain": [
       "'The average age for all patients is 39.2 years. The average age for females and males who do not have children is 38 years and 39 years respectively. As for males and females who have children is 39 and 40 respectively'"
      ]
     },
     "execution_count": 10,
     "metadata": {},
     "output_type": "execute_result"
    }
   ],
   "source": [
    "father_patient.get_mean_age()"
   ]
  },
  {
   "cell_type": "code",
   "execution_count": null,
   "metadata": {},
   "outputs": [],
   "source": []
  }
 ],
 "metadata": {
  "kernelspec": {
   "display_name": "Python 3",
   "language": "python",
   "name": "python3"
  },
  "language_info": {
   "codemirror_mode": {
    "name": "ipython",
    "version": 3
   },
   "file_extension": ".py",
   "mimetype": "text/x-python",
   "name": "python",
   "nbconvert_exporter": "python",
   "pygments_lexer": "ipython3",
   "version": "3.7.6"
  }
 },
 "nbformat": 4,
 "nbformat_minor": 4
}
